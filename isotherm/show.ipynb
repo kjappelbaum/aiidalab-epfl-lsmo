{
 "cells": [
  {
   "cell_type": "code",
   "execution_count": null,
   "metadata": {},
   "outputs": [],
   "source": [
    "%%javascript\n",
    "IPython.OutputArea.prototype._should_scroll = function(lines) {\n",
    "    return false;\n",
    "}"
   ]
  },
  {
   "cell_type": "code",
   "execution_count": null,
   "metadata": {},
   "outputs": [],
   "source": [
    "%aiida\n",
    "import urllib.parse as urlparse\n",
    "import ipywidgets as ipw\n",
    "from IPython.display import display, clear_output\n",
    "from aiidalab_widgets_base import viewer\n",
    "import nglview\n",
    "import numpy as np\n",
    "import bokeh.plotting as bpl\n",
    "import bokeh.models as bmd\n",
    "from bokeh.io import output_notebook, show"
   ]
  },
  {
   "cell_type": "code",
   "execution_count": null,
   "metadata": {},
   "outputs": [],
   "source": [
    "def plot(x, y, dev, title=None, xlabel=None, ylabel=None, clr_label=None, with_links=False):\n",
    "    x = np.array(x)\n",
    "    y = np.array(y)\n",
    "    dev = np.array(dev)\n",
    "    output_notebook(hide_banner=True)\n",
    "    fig = bpl.figure(\n",
    "        toolbar_location=None,\n",
    "        title=title,\n",
    "        x_axis_label=xlabel,\n",
    "        y_axis_label=ylabel,\n",
    "        tools=['tap', 'zoom_in', 'zoom_out', 'pan'], \n",
    "        output_backend='webgl',\n",
    "    )\n",
    "    \n",
    "    source = bmd.ColumnDataSource(data=dict(x=x, y=y))\n",
    "    source_dev = bmd.ColumnDataSource(data=dict(base=x, lower=y-dev, upper=y+dev))\n",
    "\n",
    "    \n",
    "    fig.line('x', 'y', source=source)\n",
    "    fig.circle('x', 'y', size=10, fill_color=\"white\", source=source)\n",
    "    fig.add_layout(bmd.Whisker(source=source_dev, base=\"base\", upper=\"upper\", lower=\"lower\"))\n",
    "        \n",
    "    show(fig)"
   ]
  },
  {
   "cell_type": "code",
   "execution_count": null,
   "metadata": {},
   "outputs": [],
   "source": [
    "url = urlparse.urlsplit(jupyter_notebook_url)\n",
    "uuid = urlparse.parse_qs(url.query)['uuid'][0]\n",
    "workcalc = load_node(uuid=str(uuid))\n",
    "ism = workcalc.outputs.output_parameters['isotherm']\n",
    "\n",
    "isotherm = np.array([ism['pressure'], ism['loading_absolute_average'], ism['loading_absolute_dev']]).transpose()\n",
    "ism_p, ism_load, ism_dev = zip(*isotherm)\n",
    "\n",
    "enthalpy = np.array([ism['pressure'], ism['enthalpy_of_adsorption_average'], ism['enthalpy_of_adsorption_dev']]).transpose()\n",
    "enth_p, enth_av, enth_dev = zip(*enthalpy)\n",
    "\n",
    "molecule_converter = {\n",
    "    \"co2\": \"CO2\",\n",
    "    \"ch4\": \"CH4\",\n",
    "    \"n2\" : \"N2\",\n",
    "    \"h2o\": \"H2O\",\n",
    "    \"h2\" : \"H2\",\n",
    "    \"o2\" : \"O2\",\n",
    "}"
   ]
  },
  {
   "cell_type": "markdown",
   "metadata": {},
   "source": [
    "# Detailed Report"
   ]
  },
  {
   "cell_type": "markdown",
   "metadata": {},
   "source": [
    "## Structure"
   ]
  },
  {
   "cell_type": "code",
   "execution_count": null,
   "metadata": {},
   "outputs": [],
   "source": [
    "display(viewer(workcalc.inputs.structure))"
   ]
  },
  {
   "cell_type": "markdown",
   "metadata": {},
   "source": [
    "## Isotherm plot"
   ]
  },
  {
   "cell_type": "code",
   "execution_count": null,
   "metadata": {},
   "outputs": [],
   "source": [
    "plot(ism_p, ism_load, ism_dev,\n",
    "     xlabel=\"Pressure [{}]\".format(ism['pressure_unit']),\n",
    "     ylabel=\"{} loading [{}]\".format(molecule_converter[workcalc.inputs['molecule'].value],\n",
    "                                     ism['loading_absolute_unit']))"
   ]
  },
  {
   "cell_type": "markdown",
   "metadata": {},
   "source": [
    "## Enthalpy of adsorption plot"
   ]
  },
  {
   "cell_type": "code",
   "execution_count": null,
   "metadata": {},
   "outputs": [],
   "source": [
    "plot(enth_p, enth_av, enth_dev,\n",
    "     xlabel=\"Pressure [{}]\".format(ism['pressure_unit']),\n",
    "     ylabel=\"Enthalpy of adsorption [{}]\".format(ism['enthalpy_of_adsorption_unit']))"
   ]
  },
  {
   "cell_type": "markdown",
   "metadata": {},
   "source": [
    "## Computed properties"
   ]
  },
  {
   "cell_type": "code",
   "execution_count": null,
   "metadata": {},
   "outputs": [],
   "source": [
    "display(viewer(workcalc.outputs.output_parameters))"
   ]
  }
 ],
 "metadata": {
  "kernelspec": {
   "display_name": "Python 3",
   "language": "python",
   "name": "python3"
  },
  "language_info": {
   "codemirror_mode": {
    "name": "ipython",
    "version": 3
   },
   "file_extension": ".py",
   "mimetype": "text/x-python",
   "name": "python",
   "nbconvert_exporter": "python",
   "pygments_lexer": "ipython3",
   "version": "3.7.4"
  }
 },
 "nbformat": 4,
 "nbformat_minor": 2
}
